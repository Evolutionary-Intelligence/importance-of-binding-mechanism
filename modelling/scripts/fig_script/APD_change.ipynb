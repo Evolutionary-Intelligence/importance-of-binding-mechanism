{
 "cells": [
  {
   "cell_type": "code",
   "execution_count": 2,
   "id": "8a903159",
   "metadata": {},
   "outputs": [
    {
     "ename": "ModuleNotFoundError",
     "evalue": "No module named 'plotly'",
     "output_type": "error",
     "traceback": [
      "\u001b[1;31m---------------------------------------------------------------------------\u001b[0m",
      "\u001b[1;31mModuleNotFoundError\u001b[0m                       Traceback (most recent call last)",
      "\u001b[1;32m<ipython-input-2-729191f50904>\u001b[0m in \u001b[0;36m<module>\u001b[1;34m\u001b[0m\n\u001b[0;32m      1\u001b[0m \u001b[1;32mimport\u001b[0m \u001b[0mmatplotlib\u001b[0m\u001b[1;33m.\u001b[0m\u001b[0mpyplot\u001b[0m \u001b[1;32mas\u001b[0m \u001b[0mplt\u001b[0m\u001b[1;33m\u001b[0m\u001b[1;33m\u001b[0m\u001b[0m\n\u001b[0;32m      2\u001b[0m \u001b[1;32mimport\u001b[0m \u001b[0mpandas\u001b[0m \u001b[1;32mas\u001b[0m \u001b[0mpd\u001b[0m\u001b[1;33m\u001b[0m\u001b[1;33m\u001b[0m\u001b[0m\n\u001b[1;32m----> 3\u001b[1;33m \u001b[1;32mimport\u001b[0m \u001b[0mplotly\u001b[0m\u001b[1;33m.\u001b[0m\u001b[0mgraph_objects\u001b[0m \u001b[1;32mas\u001b[0m \u001b[0mgo\u001b[0m\u001b[1;33m\u001b[0m\u001b[1;33m\u001b[0m\u001b[0m\n\u001b[0m\u001b[0;32m      4\u001b[0m \u001b[1;33m\u001b[0m\u001b[0m\n\u001b[0;32m      5\u001b[0m \u001b[1;32mimport\u001b[0m \u001b[0mmodelling\u001b[0m\u001b[1;33m\u001b[0m\u001b[1;33m\u001b[0m\u001b[0m\n",
      "\u001b[1;31mModuleNotFoundError\u001b[0m: No module named 'plotly'"
     ]
    }
   ],
   "source": [
    "import matplotlib.pyplot as plt\n",
    "import pandas as pd\n",
    "import plotly.graph_objects as go\n",
    "\n",
    "import modelling"
   ]
  },
  {
   "cell_type": "code",
   "execution_count": 6,
   "id": "89b3372d",
   "metadata": {},
   "outputs": [],
   "source": [
    "testing_fig_dir = '../../figures/testing/'\n",
    "final_fig_dir = '../../figures/binding_kinetics_comparison/' + \\\n",
    "    'OHaraCiPA_model/sensitivity_analysis/'\n",
    "\n",
    "saved_fig_dir = final_fig_dir\n",
    "\n",
    "saved_data_dir = '../../../simulation_data/sensitivity_analysis/'"
   ]
  },
  {
   "cell_type": "code",
   "execution_count": 9,
   "id": "6f57db64",
   "metadata": {},
   "outputs": [
    {
     "data": {
      "image/png": "[encoded data removed]",
      "text/plain": [
       "<Figure size 640x480 with 1 Axes>"
      ]
     },
     "metadata": {},
     "output_type": "display_data"
    }
   ],
   "source": [
    "param_interest = 'N'\n",
    "\n",
    "for drug in ['dofetilide']:\n",
    "\n",
    "    filename = 'SA_' + drug + '_' + param_interest + '.csv'\n",
    "    df = pd.read_csv(saved_data_dir + filename,\n",
    "                     header=[0, 1], index_col=[0],\n",
    "                     skipinitialspace=True)\n",
    "    # data included: drug_conc_Hill, peak_current, Hill_curve, param_values,\n",
    "    # drug_conc_AP, APD_trapping, APD_conductance and MSE\n",
    "\n",
    "    param_lib = modelling.BindingParameters()\n",
    "    param_true = param_lib.binding_parameters[drug][param_interest]\n",
    "\n",
    "    # Plot APD90\n",
    "    plt.figure()\n",
    "#     for row_ind in range(len(df.index)):\n",
    "#         figname = drug + '_' + param_interest + '_' + str(row_ind) + '_APD.pdf'\n",
    "    row_ind = 1\n",
    "    drug_conc_AP = df.iloc[[row_ind]]['drug_conc_AP'].values[0]\n",
    "    APD_trapping = df.iloc[[row_ind]]['APD_trapping'].values[0]\n",
    "    APD_conductance = df.iloc[[row_ind]]['APD_conductance'].values[0]\n",
    "    plt.plot(drug_conc_AP, APD_trapping, 'o-', color='red')\n",
    "    plt.plot(drug_conc_AP, APD_conductance, '^-', color='red')\n",
    "\n",
    "    plt.xscale('log')\n",
    "    plt.show()\n",
    "#         plt.savefig(saved_fig_dir + figname)\n",
    "#         plt.close()"
   ]
  },
  {
   "cell_type": "code",
   "execution_count": null,
   "id": "4220e957",
   "metadata": {},
   "outputs": [],
   "source": []
  }
 ],
 "metadata": {
  "kernelspec": {
   "display_name": "Python 3.8.3 64-bit",
   "language": "python",
   "name": "python3"
  },
  "language_info": {
   "codemirror_mode": {
    "name": "ipython",
    "version": 3
   },
   "file_extension": ".py",
   "mimetype": "text/x-python",
   "name": "python",
   "nbconvert_exporter": "python",
   "pygments_lexer": "ipython3",
   "version": "3.8.3"
  },
  "vscode": {
   "interpreter": {
    "hash": "6a926afa313b26ae1264fdcf81c726a97e69f6ba2ba780f6aa901948710f8d6e"
   }
  }
 },
 "nbformat": 4,
 "nbformat_minor": 5
}
